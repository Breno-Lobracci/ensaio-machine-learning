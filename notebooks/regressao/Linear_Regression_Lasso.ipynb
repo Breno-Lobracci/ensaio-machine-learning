{
 "cells": [
  {
   "cell_type": "markdown",
   "metadata": {},
   "source": [
    "# 0.0 Imports"
   ]
  },
  {
   "cell_type": "code",
   "execution_count": 1,
   "metadata": {},
   "outputs": [],
   "source": [
    "import warnings\n",
    "\n",
    "import matplotlib.pyplot as plt\n",
    "import numpy as np\n",
    "import pandas as pd\n",
    "from sklearn import metrics as mt\n",
    "from sklearn.linear_model import Lasso"
   ]
  },
  {
   "cell_type": "code",
   "execution_count": 2,
   "metadata": {},
   "outputs": [],
   "source": [
    "warnings.filterwarnings(\"ignore\")"
   ]
  },
  {
   "cell_type": "markdown",
   "metadata": {},
   "source": [
    "# 1.0 Load Datasets"
   ]
  },
  {
   "cell_type": "code",
   "execution_count": 3,
   "metadata": {},
   "outputs": [],
   "source": [
    "#Data Path\n",
    "data_path_X_trian = '../regressao/X_training.csv'\n",
    "data_path_y_trian = '../regressao/y_training.csv'\n",
    "\n",
    "data_path_X_val = '../regressao/X_validation.csv'\n",
    "data_path_y_val = '../regressao/y_val.csv'\n",
    "\n",
    "data_path_X_test = '../regressao/X_test.csv'\n",
    "data_path_y_test = '../regressao/y_test.csv'\n",
    "\n",
    "# Train Dataset\n",
    "X_train = pd.read_csv(data_path_X_trian)\n",
    "y_train = pd.read_csv(data_path_y_trian)\n",
    "\n",
    "# Validation Dataset\n",
    "X_val = pd.read_csv(data_path_X_val)\n",
    "y_val = pd.read_csv(data_path_y_val)\n",
    "\n",
    "# Test Dataset\n",
    "X_test = pd.read_csv(data_path_X_test)\n",
    "y_test = pd.read_csv(data_path_y_test)"
   ]
  },
  {
   "cell_type": "code",
   "execution_count": 4,
   "metadata": {},
   "outputs": [],
   "source": [
    "y_train = y_train.iloc[:, 0]\n",
    "y_val = y_val.iloc[:, 0]\n",
    "y_test = y_test.iloc[:, 0]"
   ]
  },
  {
   "cell_type": "markdown",
   "metadata": {},
   "source": [
    "# 2.0 Performance"
   ]
  },
  {
   "cell_type": "markdown",
   "metadata": {},
   "source": [
    "## 2.1 Train Performance"
   ]
  },
  {
   "cell_type": "code",
   "execution_count": 5,
   "metadata": {},
   "outputs": [
    {
     "name": "stdout",
     "output_type": "stream",
     "text": [
      "Train R2: 0.007400905609184383\n",
      "Train MSE: 474.47483414340275\n",
      "Train RMSE: 21.782443254681112\n",
      "Train MAE: 17.305483795260546\n",
      "Train MAPE: 8.736697313910927\n"
     ]
    }
   ],
   "source": [
    "# Define Model\n",
    "lasso = Lasso(random_state=42)\n",
    "\n",
    "# Fit Model\n",
    "lasso.fit(X_train, y_train)\n",
    "\n",
    "# Predict\n",
    "y_pred_train = lasso.predict(X_train)\n",
    "\n",
    "# Performance Metrics\n",
    "\n",
    "r2_train = mt.r2_score(y_train, y_pred_train)\n",
    "mse_train = mt.mean_squared_error(y_train, y_pred_train)\n",
    "rmse_train = mt.mean_squared_error(y_train, y_pred_train, squared= False)\n",
    "mae_train = mt.mean_absolute_error(y_train, y_pred_train)\n",
    "mape_train = mt.mean_absolute_percentage_error(y_train, y_pred_train)\n",
    "\n",
    "print('Train R2: {}' .format(r2_train))\n",
    "print('Train MSE: {}' .format(mse_train))\n",
    "print('Train RMSE: {}' .format(rmse_train))\n",
    "print('Train MAE: {}' .format(mae_train))\n",
    "print('Train MAPE: {}' .format(mape_train))"
   ]
  },
  {
   "cell_type": "markdown",
   "metadata": {},
   "source": [
    "## 2.2 Validation Performance"
   ]
  },
  {
   "cell_type": "code",
   "execution_count": 6,
   "metadata": {},
   "outputs": [
    {
     "name": "stdout",
     "output_type": "stream",
     "text": [
      "Train R2: 0.007883642924698453\n",
      "Train MSE: 473.7470809154487\n",
      "Train RMSE: 21.76573180289256\n",
      "Train MAE: 17.26492176467576\n",
      "Train MAPE: 8.695808367641687\n"
     ]
    }
   ],
   "source": [
    "# Define Model\n",
    "lasso = Lasso(random_state=42)\n",
    "\n",
    "# Fit Model\n",
    "lasso.fit(X_train, y_train)\n",
    "\n",
    "# Predict\n",
    "y_pred_val = lasso.predict(X_val)\n",
    "\n",
    "# Performance Metrics\n",
    "\n",
    "r2_val = mt.r2_score(y_val, y_pred_val)\n",
    "mse_val = mt.mean_squared_error(y_val, y_pred_val)\n",
    "rmse_val = mt.mean_squared_error(y_val, y_pred_val, squared= False)\n",
    "mae_val = mt.mean_absolute_error(y_val, y_pred_val)\n",
    "mape_val = mt.mean_absolute_percentage_error(y_val, y_pred_val)\n",
    "\n",
    "print('Train R2: {}' .format(r2_val))\n",
    "print('Train MSE: {}' .format(mse_val))\n",
    "print('Train RMSE: {}' .format(rmse_val))\n",
    "print('Train MAE: {}' .format(mae_val))\n",
    "print('Train MAPE: {}' .format(mape_val))"
   ]
  },
  {
   "cell_type": "markdown",
   "metadata": {},
   "source": [
    "## 2.3 Fine Tunning"
   ]
  },
  {
   "cell_type": "markdown",
   "metadata": {},
   "source": [
    "### Parameteres:\n",
    "- `max_iter`\n",
    "- `alpha`"
   ]
  },
  {
   "cell_type": "markdown",
   "metadata": {},
   "source": [
    "### Max_iter"
   ]
  },
  {
   "cell_type": "code",
   "execution_count": 7,
   "metadata": {},
   "outputs": [],
   "source": [
    "max_iter = np.arange(400, 2100, 100)\n",
    "\n",
    "r2_list = []\n",
    "mse_list = []\n",
    "rmse_list = []\n",
    "mae_list = []\n",
    "mape_list = []"
   ]
  },
  {
   "cell_type": "code",
   "execution_count": 8,
   "metadata": {},
   "outputs": [],
   "source": [
    "for i in max_iter:\n",
    "    # Define Model\n",
    "    lasso = Lasso(random_state=42, max_iter=i)\n",
    "\n",
    "    # Fit Model\n",
    "    lasso.fit(X_train, y_train)\n",
    "\n",
    "    # Predict\n",
    "    y_pred_val = lasso.predict(X_val)\n",
    "\n",
    "    # Performance Metrics\n",
    "\n",
    "    r2 = mt.r2_score(y_val, y_pred_val)\n",
    "    mse = mt.mean_squared_error(y_val, y_pred_val)\n",
    "    rmse = mt.mean_squared_error(y_val, y_pred_val, squared= False)\n",
    "    mae = mt.mean_absolute_error(y_val, y_pred_val)\n",
    "    mape = mt.mean_absolute_percentage_error(y_val, y_pred_val)\n",
    "\n",
    "    r2_list.append(r2)\n",
    "    mse_list.append(mse)\n",
    "    rmse_list.append(rmse)\n",
    "    mae_list.append(mae)\n",
    "    mape_list.append(mape)"
   ]
  },
  {
   "cell_type": "code",
   "execution_count": 9,
   "metadata": {},
   "outputs": [
    {
     "data": {
      "text/plain": [
       "<matplotlib.legend.Legend at 0x183038b6fa0>"
      ]
     },
     "execution_count": 9,
     "metadata": {},
     "output_type": "execute_result"
    },
    {
     "data": {
      "image/png": "[encoded data removed]",
      "text/plain": [
       "<Figure size 640x480 with 1 Axes>"
      ]
     },
     "metadata": {},
     "output_type": "display_data"
    }
   ],
   "source": [
    "plt.plot(max_iter, r2_list,marker='o', label='R2')\n",
    "plt.plot(max_iter, mse_list,marker='o', label='MSE')\n",
    "plt.plot(max_iter,rmse_list,marker='o', label='RMSE')\n",
    "plt.plot(max_iter,mae_list,marker='o', label='MAE')\n",
    "plt.plot(max_iter,mape_list,marker='o', label='MAPE')\n",
    "plt.xlabel('Max Iter')\n",
    "plt.ylabel('Metrics')\n",
    "plt.legend()"
   ]
  },
  {
   "cell_type": "code",
   "execution_count": 10,
   "metadata": {},
   "outputs": [
    {
     "data": {
      "text/plain": [
       "400"
      ]
     },
     "execution_count": 10,
     "metadata": {},
     "output_type": "execute_result"
    }
   ],
   "source": [
    "best_max_iter = max_iter[np.argmin(rmse_list)]\n",
    "best_max_iter"
   ]
  },
  {
   "cell_type": "markdown",
   "metadata": {},
   "source": [
    "### Aplha"
   ]
  },
  {
   "cell_type": "code",
   "execution_count": 12,
   "metadata": {},
   "outputs": [],
   "source": [
    "alpha = np.arange(0, 5, 0.2)\n",
    "\n",
    "r2_list = []\n",
    "mse_list = []\n",
    "rmse_list = []\n",
    "mae_list = []\n",
    "mape_list = []"
   ]
  },
  {
   "cell_type": "code",
   "execution_count": 13,
   "metadata": {},
   "outputs": [],
   "source": [
    "for i in alpha:\n",
    "    # Define Model\n",
    "    lasso = Lasso(random_state=42, max_iter=best_max_iter, alpha=i)\n",
    "\n",
    "    # Fit Model\n",
    "    lasso.fit(X_train, y_train)\n",
    "\n",
    "    # Predict\n",
    "    y_pred_val = lasso.predict(X_val)\n",
    "\n",
    "    # Performance Metrics\n",
    "\n",
    "    r2 = mt.r2_score(y_val, y_pred_val)\n",
    "    mse = mt.mean_squared_error(y_val, y_pred_val)\n",
    "    rmse = mt.mean_squared_error(y_val, y_pred_val, squared= False)\n",
    "    mae = mt.mean_absolute_error(y_val, y_pred_val)\n",
    "    mape = mt.mean_absolute_percentage_error(y_val, y_pred_val)\n",
    "\n",
    "    r2_list.append(r2)\n",
    "    mse_list.append(mse)\n",
    "    rmse_list.append(rmse)\n",
    "    mae_list.append(mae)\n",
    "    mape_list.append(mape)"
   ]
  },
  {
   "cell_type": "code",
   "execution_count": 14,
   "metadata": {},
   "outputs": [
    {
     "data": {
      "text/plain": [
       "<matplotlib.legend.Legend at 0x183057b0430>"
      ]
     },
     "execution_count": 14,
     "metadata": {},
     "output_type": "execute_result"
    },
    {
     "data": {
      "image/png": "[encoded data removed]",
      "text/plain": [
       "<Figure size 640x480 with 1 Axes>"
      ]
     },
     "metadata": {},
     "output_type": "display_data"
    }
   ],
   "source": [
    "plt.plot(alpha, r2_list,marker='o', label='R2')\n",
    "plt.plot(alpha, mse_list,marker='o', label='MSE')\n",
    "plt.plot(alpha,rmse_list,marker='o', label='RMSE')\n",
    "plt.plot(alpha,mae_list,marker='o', label='MAE')\n",
    "plt.plot(alpha,mape_list,marker='o', label='MAPE')\n",
    "plt.xlabel('Max Iter')\n",
    "plt.ylabel('Metrics')\n",
    "plt.legend()"
   ]
  },
  {
   "cell_type": "code",
   "execution_count": 24,
   "metadata": {},
   "outputs": [
    {
     "data": {
      "text/plain": [
       "0.0"
      ]
     },
     "execution_count": 24,
     "metadata": {},
     "output_type": "execute_result"
    }
   ],
   "source": [
    "best_alpha = alpha[np.argmin(rmse_list)]\n",
    "best_alpha"
   ]
  },
  {
   "cell_type": "markdown",
   "metadata": {},
   "source": [
    "## 2.4 Test Performance"
   ]
  },
  {
   "cell_type": "code",
   "execution_count": 25,
   "metadata": {},
   "outputs": [
    {
     "name": "stdout",
     "output_type": "stream",
     "text": [
      "Train R2: 0.05116551777115064\n",
      "Train MSE: 461.9884353525593\n",
      "Train RMSE: 21.4939162404751\n",
      "Train MAE: 17.144197086987703\n",
      "Train MAPE: 8.531355027820084\n"
     ]
    }
   ],
   "source": [
    "# Define Model\n",
    "lasso = Lasso(random_state=42, max_iter=best_max_iter, alpha =best_alpha)\n",
    "\n",
    "# Fit Model\n",
    "lasso.fit(pd.concat([X_train, X_val], axis=0), pd.concat([y_train, y_val], axis=0))\n",
    "\n",
    "# Predict\n",
    "y_pred_test = lasso.predict(X_test)\n",
    "\n",
    "# Performance Metrics\n",
    "\n",
    "r2_test = mt.r2_score(y_test, y_pred_test)\n",
    "mse_test = mt.mean_squared_error(y_test, y_pred_test)\n",
    "rmse_test = mt.mean_squared_error(y_test, y_pred_test, squared= False)\n",
    "mae_test = mt.mean_absolute_error(y_test, y_pred_test)\n",
    "mape_test = mt.mean_absolute_percentage_error(y_test, y_pred_test)\n",
    "\n",
    "print('Train R2: {}' .format(r2_test))\n",
    "print('Train MSE: {}' .format(mse_test))\n",
    "print('Train RMSE: {}' .format(rmse_test))\n",
    "print('Train MAE: {}' .format(mae_test))\n",
    "print('Train MAPE: {}' .format(mape_test))"
   ]
  },
  {
   "cell_type": "markdown",
   "metadata": {},
   "source": [
    "# 3.0 Results"
   ]
  },
  {
   "cell_type": "code",
   "execution_count": 26,
   "metadata": {},
   "outputs": [],
   "source": [
    "train_metrics = {\n",
    "    \"Algorithm\": \"Linear Regression - Lasso\",\n",
    "    \"R2\": np.round(r2_train, 3),\n",
    "    \"MSE\": np.round(mse_train, 3),\n",
    "    \"RMSE\": np.round(rmse_train, 3),\n",
    "    \"MAE\": np.round(mae_train, 3),\n",
    "    \"MAPE\": np.round(mape_train, 3),\n",
    "}\n",
    "validation_metrics = {\n",
    "    \"Algorithm\": \"Linear Regression - Lasso\",\n",
    "    \"R2\": np.round(r2_val, 3),\n",
    "    \"MSE\": np.round(mse_val, 3),\n",
    "    \"RMSE\": np.round(rmse_val, 3),\n",
    "    \"MAE\": np.round(mae_val, 3),\n",
    "    \"MAPE\": np.round(mape_val, 3),\n",
    "}\n",
    "test_metrics = {\n",
    "    \"Algorithm\": \"Linear Regression - Lasso\",\n",
    "    \"R2\": np.round(r2_test, 3),\n",
    "    \"MSE\": np.round(mse_test, 3),\n",
    "    \"RMSE\": np.round(rmse_test, 3),\n",
    "    \"MAE\": np.round(mae_test, 3),\n",
    "    \"MAPE\": np.round(mape_test, 3),\n",
    "}\n",
    "\n",
    "pd.DataFrame(train_metrics, index=[0]).to_csv(\n",
    "    \"./reg_train_metrics.csv\", mode=\"a\", header=False\n",
    ")\n",
    "pd.DataFrame(validation_metrics, index=[0]).to_csv(\n",
    "    \"./reg_validation_metrics.csv\", mode=\"a\", header=False\n",
    ")\n",
    "pd.DataFrame(test_metrics, index=[0]).to_csv(\n",
    "    \"./reg_test_metrics.csv\", mode=\"a\", header=False\n",
    ")"
   ]
  }
 ],
 "metadata": {
  "kernelspec": {
   "display_name": "Python 3",
   "language": "python",
   "name": "python3"
  },
  "language_info": {
   "codemirror_mode": {
    "name": "ipython",
    "version": 3
   },
   "file_extension": ".py",
   "mimetype": "text/x-python",
   "name": "python",
   "nbconvert_exporter": "python",
   "pygments_lexer": "ipython3",
   "version": "3.8.16"
  }
 },
 "nbformat": 4,
 "nbformat_minor": 2
}
