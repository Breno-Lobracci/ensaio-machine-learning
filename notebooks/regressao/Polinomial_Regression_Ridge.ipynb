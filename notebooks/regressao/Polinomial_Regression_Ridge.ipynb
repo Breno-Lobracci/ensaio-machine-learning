{
 "cells": [
  {
   "cell_type": "markdown",
   "metadata": {},
   "source": [
    "# 0.0 Imports"
   ]
  },
  {
   "cell_type": "code",
   "execution_count": 5,
   "metadata": {},
   "outputs": [],
   "source": [
    "import warnings\n",
    "\n",
    "import pandas as pd\n",
    "import numpy as np\n",
    "\n",
    "from sklearn import metrics as mt\n",
    "from sklearn.linear_model import Ridge\n",
    "from sklearn.preprocessing import PolynomialFeatures\n",
    "from matplotlib import pyplot as plt"
   ]
  },
  {
   "cell_type": "code",
   "execution_count": 2,
   "metadata": {},
   "outputs": [],
   "source": [
    "warnings.filterwarnings('ignore')"
   ]
  },
  {
   "cell_type": "markdown",
   "metadata": {},
   "source": [
    "# 1.0 Load Dataset"
   ]
  },
  {
   "cell_type": "code",
   "execution_count": 3,
   "metadata": {},
   "outputs": [],
   "source": [
    "#Data Path\n",
    "data_path_X_trian = '../regressao/X_training.csv'\n",
    "data_path_y_trian = '../regressao/y_training.csv'\n",
    "\n",
    "data_path_X_val = '../regressao/X_validation.csv'\n",
    "data_path_y_val = '../regressao/y_val.csv'\n",
    "\n",
    "data_path_X_test = '../regressao/X_test.csv'\n",
    "data_path_y_test = '../regressao/y_test.csv'\n",
    "\n",
    "# Train Dataset\n",
    "X_train = pd.read_csv(data_path_X_trian)\n",
    "y_train = pd.read_csv(data_path_y_trian)\n",
    "\n",
    "# Validation Dataset\n",
    "X_val = pd.read_csv(data_path_X_val)\n",
    "y_val = pd.read_csv(data_path_y_val)\n",
    "\n",
    "# Test Dataset\n",
    "X_test = pd.read_csv(data_path_X_test)\n",
    "y_test = pd.read_csv(data_path_y_test)"
   ]
  },
  {
   "cell_type": "code",
   "execution_count": 4,
   "metadata": {},
   "outputs": [],
   "source": [
    "y_train = y_train.iloc[:, 0]\n",
    "y_val = y_val.iloc[:, 0]\n",
    "y_test = y_test.iloc[:, 0]"
   ]
  },
  {
   "cell_type": "markdown",
   "metadata": {},
   "source": [
    "# 2.0 Performance"
   ]
  },
  {
   "cell_type": "markdown",
   "metadata": {},
   "source": [
    "## 2.1 Train Performance"
   ]
  },
  {
   "cell_type": "code",
   "execution_count": 6,
   "metadata": {},
   "outputs": [
    {
     "name": "stdout",
     "output_type": "stream",
     "text": [
      "Train R2: 0.09317140761274356\n",
      "Train MSE: 433.47545690992735\n",
      "Train RMSE: 20.820073412693034\n",
      "Train MAE: 16.471971837686482\n",
      "Train MAPE: 8.372689165744587\n"
     ]
    }
   ],
   "source": [
    "# Define Polynomial Model\n",
    "poly = PolynomialFeatures()\n",
    "X_poly_train = poly.fit_transform(X_train)\n",
    "\n",
    "# Define Ridge Model\n",
    "poly_ridge = Ridge(random_state=42)\n",
    "# Fit Model\n",
    "poly_ridge.fit(X_poly_train, y_train)\n",
    "\n",
    "# Predict \n",
    "y_pred_train = poly_ridge.predict(X_poly_train)\n",
    "\n",
    "# Performance Metrics\n",
    "r2_train = mt.r2_score(y_train, y_pred_train)\n",
    "mse_train = mt.mean_squared_error(y_train, y_pred_train)\n",
    "rmse_train = mt.mean_squared_error(y_train, y_pred_train, squared= False)\n",
    "mae_train = mt.mean_absolute_error(y_train, y_pred_train)\n",
    "mape_train = mt.mean_absolute_percentage_error(y_train, y_pred_train)\n",
    "\n",
    "print(f\"Train R2: {r2_train}\")\n",
    "print(f\"Train MSE: {mse_train}\")\n",
    "print(f\"Train RMSE: {rmse_train}\")\n",
    "print(f\"Train MAE: {mae_train}\")\n",
    "print(f\"Train MAPE: {mape_train}\")\n"
   ]
  },
  {
   "cell_type": "markdown",
   "metadata": {},
   "source": [
    "## 2.2 Validation Performance"
   ]
  },
  {
   "cell_type": "code",
   "execution_count": 7,
   "metadata": {},
   "outputs": [
    {
     "name": "stdout",
     "output_type": "stream",
     "text": [
      "Validation R2: 0.06769929966791688\n",
      "Validation MSE: 445.1844102437571\n",
      "Validation RMSE: 21.099393598958173\n",
      "Validation MAE: 16.738740611690584\n",
      "Validation MAPE: 8.568992470935273\n"
     ]
    }
   ],
   "source": [
    "# Define Polynomial Model\n",
    "poly = PolynomialFeatures()\n",
    "X_poly_train = poly.fit_transform(X_train)\n",
    "X_poly_val = poly.fit_transform(X_val)\n",
    "\n",
    "# Define Ridge Model\n",
    "poly_ridge = Ridge(random_state=42)\n",
    "# Fit Model\n",
    "poly_ridge.fit(X_poly_train, y_train)\n",
    "\n",
    "# Predict \n",
    "y_pred_val = poly_ridge.predict(X_poly_val)\n",
    "\n",
    "# Performance Metrics\n",
    "r2_val = mt.r2_score(y_val, y_pred_val)\n",
    "mse_val = mt.mean_squared_error(y_val, y_pred_val)\n",
    "rmse_val = mt.mean_squared_error(y_val, y_pred_val, squared= False)\n",
    "mae_val = mt.mean_absolute_error(y_val, y_pred_val)\n",
    "mape_val = mt.mean_absolute_percentage_error(y_val, y_pred_val)\n",
    "\n",
    "print(f\"Validation R2: {r2_val}\")\n",
    "print(f\"Validation MSE: {mse_val}\")\n",
    "print(f\"Validation RMSE: {rmse_val}\")\n",
    "print(f\"Validation MAE: {mae_val}\")\n",
    "print(f\"Validation MAPE: {mape_val}\")"
   ]
  },
  {
   "cell_type": "markdown",
   "metadata": {},
   "source": [
    "## 2.3 Fine Tunning"
   ]
  },
  {
   "cell_type": "markdown",
   "metadata": {},
   "source": [
    "### Parameteres:\n",
    "- `degree`\n",
    "- `alpha`\n",
    "- `max_iter`"
   ]
  },
  {
   "cell_type": "code",
   "execution_count": 8,
   "metadata": {},
   "outputs": [],
   "source": [
    "degree = np.arange(1, 6)\n",
    "\n",
    "r2_list = []\n",
    "mse_list = []\n",
    "rmse_list = []\n",
    "mae_list = []\n",
    "mape_list = []"
   ]
  },
  {
   "cell_type": "code",
   "execution_count": 9,
   "metadata": {},
   "outputs": [
    {
     "name": "stdout",
     "output_type": "stream",
     "text": [
      "Degree: 1, RMSE: 21.411339907252348\n",
      "Degree: 2, RMSE: 21.099393598958173\n",
      "Degree: 3, RMSE: 22.666722301894232\n",
      "Degree: 4, RMSE: 118.56201816064807\n",
      "Degree: 5, RMSE: 358.3572301678857\n"
     ]
    }
   ],
   "source": [
    "for i in degree:\n",
    "    # Define polynomial model\n",
    "    poly = PolynomialFeatures(degree=i)\n",
    "    X_poly_train = poly.fit_transform(X_train)\n",
    "    X_poly_val = poly.fit_transform(X_val)\n",
    "\n",
    "    # Train and Fit Model\n",
    "    poly_ridge = Ridge(random_state=42)\n",
    "    poly_ridge.fit(X_poly_train, y_train)\n",
    "\n",
    "    # Predict\n",
    "    y_pred = poly_ridge.predict(X_poly_val)\n",
    "\n",
    "    # Performance Metrics\n",
    "    r2 = mt.r2_score(y_val, y_pred)\n",
    "    mse = mt.mean_squared_error(y_val, y_pred)\n",
    "    rmse = mt.mean_squared_error(y_val, y_pred, squared= False)\n",
    "    mae = mt.mean_absolute_error(y_val, y_pred)\n",
    "    mape = mt.mean_absolute_percentage_error(y_val, y_pred)\n",
    "\n",
    "    r2_list.append(r2)\n",
    "    mse_list.append(mse)\n",
    "    rmse_list.append(rmse)\n",
    "    mae_list.append(mae)\n",
    "    mape_list.append(mape)\n",
    "\n",
    "    print(f\"Degree: {i}, RMSE: {rmse}\")"
   ]
  },
  {
   "cell_type": "code",
   "execution_count": 10,
   "metadata": {},
   "outputs": [
    {
     "data": {
      "text/plain": [
       "<matplotlib.legend.Legend at 0x25e9b488310>"
      ]
     },
     "execution_count": 10,
     "metadata": {},
     "output_type": "execute_result"
    },
    {
     "data": {
      "image/png": "[encoded data removed]",
      "text/plain": [
       "<Figure size 640x480 with 1 Axes>"
      ]
     },
     "metadata": {},
     "output_type": "display_data"
    }
   ],
   "source": [
    "plt.plot(degree, r2_list, marker=\"o\", label=\"R2\")\n",
    "plt.plot(degree, mse_list, marker=\"o\", label=\"MSE\")\n",
    "plt.plot(degree, rmse_list, marker=\"o\", label=\"RMSE\")\n",
    "plt.plot(degree, mae_list, marker=\"o\", label=\"MAE\")\n",
    "plt.plot(degree, mape_list, marker=\"o\", label=\"MAPE\")\n",
    "plt.xlabel(\"Degree\")\n",
    "plt.ylabel(\"Metrics\")\n",
    "plt.legend()"
   ]
  },
  {
   "cell_type": "code",
   "execution_count": 11,
   "metadata": {},
   "outputs": [
    {
     "data": {
      "text/plain": [
       "2"
      ]
     },
     "execution_count": 11,
     "metadata": {},
     "output_type": "execute_result"
    }
   ],
   "source": [
    "best_degree = degree[np.argmin(mse_list)]\n",
    "best_degree"
   ]
  },
  {
   "cell_type": "markdown",
   "metadata": {},
   "source": [
    "### Alpha"
   ]
  },
  {
   "cell_type": "code",
   "execution_count": 12,
   "metadata": {},
   "outputs": [],
   "source": [
    "alpha = np.arange(0, 5, 0.2)\n",
    "\n",
    "r2_list = []\n",
    "mse_list = []\n",
    "rmse_list = []\n",
    "mae_list = []\n",
    "mape_list = []"
   ]
  },
  {
   "cell_type": "code",
   "execution_count": 13,
   "metadata": {},
   "outputs": [],
   "source": [
    "for i in alpha:\n",
    "    # Define Polynomial Model\n",
    "    poly = PolynomialFeatures(degree=best_degree )\n",
    "    X_poly_train = poly.fit_transform(X_train)\n",
    "    X_poly_val = poly.fit_transform(X_val)\n",
    "\n",
    "    # Define Ridge Model\n",
    "    poly_ridge = Ridge(random_state=42, alpha=i)\n",
    "\n",
    "    # Fit Model\n",
    "    poly_ridge.fit(X_poly_train, y_train)\n",
    "\n",
    "    # Predict\n",
    "    y_pred = poly_ridge.predict(X_poly_val)\n",
    "\n",
    "    # Performance Metrics\n",
    "    r2 = mt.r2_score(y_val, y_pred)\n",
    "    mse = mt.mean_squared_error(y_val, y_pred)\n",
    "    rmse = mt.mean_squared_error(y_val, y_pred, squared= False)\n",
    "    mae = mt.mean_absolute_error(y_val, y_pred)\n",
    "    mape = mt.mean_absolute_percentage_error(y_val, y_pred)\n",
    "\n",
    "    r2_list.append(r2)\n",
    "    mse_list.append(mse)\n",
    "    rmse_list.append(rmse)\n",
    "    mae_list.append(mae)\n",
    "    mape_list.append(mape)"
   ]
  },
  {
   "cell_type": "code",
   "execution_count": 14,
   "metadata": {},
   "outputs": [
    {
     "data": {
      "text/plain": [
       "<matplotlib.legend.Legend at 0x25e9c413e80>"
      ]
     },
     "execution_count": 14,
     "metadata": {},
     "output_type": "execute_result"
    },
    {
     "data": {
      "image/png": "[encoded data removed]",
      "text/plain": [
       "<Figure size 640x480 with 1 Axes>"
      ]
     },
     "metadata": {},
     "output_type": "display_data"
    }
   ],
   "source": [
    "plt.plot(alpha, r2_list, marker=\"o\", label=\"R2\")\n",
    "plt.plot(alpha, mse_list, marker=\"o\", label=\"MSE\")\n",
    "plt.plot(alpha, rmse_list, marker=\"o\", label=\"RMSE\")\n",
    "plt.plot(alpha, mae_list, marker=\"o\", label=\"MAE\")\n",
    "plt.plot(alpha, mape_list, marker=\"o\", label=\"MAPE\")\n",
    "plt.xlabel(\"Alpha\")\n",
    "plt.ylabel(\"Metrics\")\n",
    "plt.legend()"
   ]
  },
  {
   "cell_type": "code",
   "execution_count": 15,
   "metadata": {},
   "outputs": [
    {
     "data": {
      "text/plain": [
       "1.2000000000000002"
      ]
     },
     "execution_count": 15,
     "metadata": {},
     "output_type": "execute_result"
    }
   ],
   "source": [
    "best_alpha = alpha[np.argmin(mse_list)]\n",
    "best_alpha"
   ]
  },
  {
   "cell_type": "markdown",
   "metadata": {},
   "source": [
    "### Max Iter"
   ]
  },
  {
   "cell_type": "code",
   "execution_count": 16,
   "metadata": {},
   "outputs": [],
   "source": [
    "max_iter = np.arange(400, 2100, 100)\n",
    "\n",
    "r2_list = []\n",
    "mse_list = []\n",
    "rmse_list = []\n",
    "mae_list = []\n",
    "mape_list = []"
   ]
  },
  {
   "cell_type": "code",
   "execution_count": 17,
   "metadata": {},
   "outputs": [],
   "source": [
    "for i in max_iter:\n",
    "    # Define Polynomial Model\n",
    "    poly = PolynomialFeatures(degree=best_degree )\n",
    "    X_poly_train = poly.fit_transform(X_train)\n",
    "    X_poly_val = poly.fit_transform(X_val)\n",
    "\n",
    "    # Define Lasso Model\n",
    "    poly_ridge = Ridge(random_state=42, alpha= best_alpha, max_iter=i)\n",
    "\n",
    "    # Fit Model\n",
    "    poly_ridge.fit(X_poly_train, y_train)\n",
    "\n",
    "    # Predict\n",
    "    y_pred = poly_ridge.predict(X_poly_val)\n",
    "\n",
    "    # Performance Metrics\n",
    "    r2 = mt.r2_score(y_val, y_pred)\n",
    "    mse = mt.mean_squared_error(y_val, y_pred)\n",
    "    rmse = mt.mean_squared_error(y_val, y_pred, squared= False)\n",
    "    mae = mt.mean_absolute_error(y_val, y_pred)\n",
    "    mape = mt.mean_absolute_percentage_error(y_val, y_pred)\n",
    "\n",
    "    r2_list.append(r2)\n",
    "    mse_list.append(mse)\n",
    "    rmse_list.append(rmse)\n",
    "    mae_list.append(mae)\n",
    "    mape_list.append(mape)"
   ]
  },
  {
   "cell_type": "code",
   "execution_count": 18,
   "metadata": {},
   "outputs": [
    {
     "data": {
      "text/plain": [
       "<matplotlib.legend.Legend at 0x25e9b594f10>"
      ]
     },
     "execution_count": 18,
     "metadata": {},
     "output_type": "execute_result"
    },
    {
     "data": {
      "image/png": "[encoded data removed]",
      "text/plain": [
       "<Figure size 640x480 with 1 Axes>"
      ]
     },
     "metadata": {},
     "output_type": "display_data"
    }
   ],
   "source": [
    "plt.plot(max_iter, r2_list, marker=\"o\", label=\"R2\")\n",
    "plt.plot(max_iter, mse_list, marker=\"o\", label=\"MSE\")\n",
    "plt.plot(max_iter, rmse_list, marker=\"o\", label=\"RMSE\")\n",
    "plt.plot(max_iter, mae_list, marker=\"o\", label=\"MAE\")\n",
    "plt.plot(max_iter, mape_list, marker=\"o\", label=\"MAPE\")\n",
    "plt.xlabel(\"Max Iter\")\n",
    "plt.ylabel(\"Metrics\")\n",
    "plt.legend()"
   ]
  },
  {
   "cell_type": "code",
   "execution_count": 19,
   "metadata": {},
   "outputs": [
    {
     "data": {
      "text/plain": [
       "400"
      ]
     },
     "execution_count": 19,
     "metadata": {},
     "output_type": "execute_result"
    }
   ],
   "source": [
    "best_max_iter = max_iter[np.argmin(mse_list)]\n",
    "best_max_iter"
   ]
  },
  {
   "cell_type": "markdown",
   "metadata": {},
   "source": [
    "## 2.4 Test Performance"
   ]
  },
  {
   "cell_type": "code",
   "execution_count": 20,
   "metadata": {},
   "outputs": [
    {
     "name": "stdout",
     "output_type": "stream",
     "text": [
      "Test R2: 0.09007962459311813\n",
      "Test MSE: 443.0411187651684\n",
      "Test RMSE: 21.048541962928653\n",
      "Test MAE: 16.743749090801646\n",
      "Test MAPE: 8.31191006788579\n"
     ]
    }
   ],
   "source": [
    "# Define Polynomial Model\n",
    "poly = PolynomialFeatures(degree=best_degree )\n",
    "X_poly_train = poly.fit_transform(X_train)\n",
    "X_poly_val = poly.fit_transform(X_val)\n",
    "X_poly_test = poly.fit_transform(X_test)\n",
    "\n",
    "\n",
    "# Define Lasso Model\n",
    "poly_ridge = Ridge(random_state=42, alpha= best_alpha, max_iter=best_max_iter)\n",
    "\n",
    "# Fit Model\n",
    "poly_ridge.fit(np.concatenate((X_poly_train, X_poly_val)),np.concatenate((y_train, y_val)))\n",
    "\n",
    "# Predict\n",
    "y_pred_test = poly_ridge.predict(X_poly_test)\n",
    "\n",
    "# Performance Metrics\n",
    "r2_test = mt.r2_score(y_test, y_pred_test)\n",
    "mse_test = mt.mean_squared_error(y_test, y_pred_test)\n",
    "rmse_test = mt.mean_squared_error(y_test, y_pred_test, squared= False)\n",
    "mae_test = mt.mean_absolute_error(y_test, y_pred_test)\n",
    "mape_test = mt.mean_absolute_percentage_error(y_test, y_pred_test)\n",
    "\n",
    "print(f\"Test R2: {r2_test}\")\n",
    "print(f\"Test MSE: {mse_test}\")\n",
    "print(f\"Test RMSE: {rmse_test}\")\n",
    "print(f\"Test MAE: {mae_test}\")\n",
    "print(f\"Test MAPE: {mape_test}\")"
   ]
  },
  {
   "cell_type": "markdown",
   "metadata": {},
   "source": [
    "# 3.0 Results"
   ]
  },
  {
   "cell_type": "code",
   "execution_count": null,
   "metadata": {},
   "outputs": [],
   "source": [
    "train_metrics = {\n",
    "    \"Algorithm\": \"Polynomial Regression - Ridge\",\n",
    "    \"R2\": np.round(r2_train, 3),\n",
    "    \"MSE\": np.round(mse_train, 3),\n",
    "    \"RMSE\": np.round(rmse_train, 3),\n",
    "    \"MAE\": np.round(mae_train, 3),\n",
    "    \"MAPE\": np.round(mape_train, 3),\n",
    "}\n",
    "validation_metrics = {\n",
    "    \"Algorithm\": \"Polynomial Regression - Ridge\",\n",
    "    \"R2\": np.round(r2_val, 3),\n",
    "    \"MSE\": np.round(mse_val, 3),\n",
    "    \"RMSE\": np.round(rmse_val, 3),\n",
    "    \"MAE\": np.round(mae_val, 3),\n",
    "    \"MAPE\": np.round(mape_val, 3),\n",
    "}\n",
    "test_metrics = {\n",
    "    \"Algorithm\": \"Polynomial Regression - Ridge\",\n",
    "    \"R2\": np.round(r2_test, 3),\n",
    "    \"MSE\": np.round(mse_test, 3),\n",
    "    \"RMSE\": np.round(rmse_test, 3),\n",
    "    \"MAE\": np.round(mae_test, 3),\n",
    "    \"MAPE\": np.round(mape_test, 3),\n",
    "}\n",
    "\n",
    "pd.DataFrame(train_metrics, index=[0]).to_csv(\n",
    "    \"./reg_train_metrics.csv\", mode=\"a\", header=False\n",
    ")\n",
    "pd.DataFrame(validation_metrics, index=[0]).to_csv(\n",
    "    \"./reg_validation_metrics.csv\", mode=\"a\", header=False\n",
    ")\n",
    "pd.DataFrame(test_metrics, index=[0]).to_csv(\n",
    "    \"./reg_test_metrics.csv\", mode=\"a\", header=False\n",
    ")"
   ]
  }
 ],
 "metadata": {
  "kernelspec": {
   "display_name": "Python 3",
   "language": "python",
   "name": "python3"
  },
  "language_info": {
   "codemirror_mode": {
    "name": "ipython",
    "version": 3
   },
   "file_extension": ".py",
   "mimetype": "text/x-python",
   "name": "python",
   "nbconvert_exporter": "python",
   "pygments_lexer": "ipython3",
   "version": "3.8.16"
  }
 },
 "nbformat": 4,
 "nbformat_minor": 2
}
