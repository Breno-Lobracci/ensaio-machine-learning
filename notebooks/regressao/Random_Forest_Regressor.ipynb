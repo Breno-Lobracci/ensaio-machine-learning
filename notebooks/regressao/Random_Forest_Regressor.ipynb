{
 "cells": [
  {
   "cell_type": "markdown",
   "metadata": {},
   "source": [
    "# 0.0 Imports"
   ]
  },
  {
   "cell_type": "code",
   "execution_count": 2,
   "metadata": {},
   "outputs": [],
   "source": [
    "import warnings\n",
    "\n",
    "import pandas as pd\n",
    "import numpy as np\n",
    "from sklearn import metrics as mt\n",
    "from sklearn.ensemble import RandomForestRegressor\n",
    "import matplotlib.pyplot as plt"
   ]
  },
  {
   "cell_type": "code",
   "execution_count": 3,
   "metadata": {},
   "outputs": [],
   "source": [
    "warnings.filterwarnings(\"ignore\")"
   ]
  },
  {
   "cell_type": "markdown",
   "metadata": {},
   "source": [
    "# 1.0 Load Dataset"
   ]
  },
  {
   "cell_type": "code",
   "execution_count": 4,
   "metadata": {},
   "outputs": [],
   "source": [
    "#Data Path\n",
    "data_path_X_trian = '../regressao/X_training.csv'\n",
    "data_path_y_trian = '../regressao/y_training.csv'\n",
    "\n",
    "data_path_X_val = '../regressao/X_validation.csv'\n",
    "data_path_y_val = '../regressao/y_val.csv'\n",
    "\n",
    "data_path_X_test = '../regressao/X_test.csv'\n",
    "data_path_y_test = '../regressao/y_test.csv'\n",
    "\n",
    "# Train Dataset\n",
    "X_train = pd.read_csv(data_path_X_trian)\n",
    "y_train = pd.read_csv(data_path_y_trian)\n",
    "\n",
    "# Validation Dataset\n",
    "X_val = pd.read_csv(data_path_X_val)\n",
    "y_val = pd.read_csv(data_path_y_val)\n",
    "\n",
    "# Test Dataset\n",
    "X_test = pd.read_csv(data_path_X_test)\n",
    "y_test = pd.read_csv(data_path_y_test)"
   ]
  },
  {
   "cell_type": "code",
   "execution_count": 5,
   "metadata": {},
   "outputs": [],
   "source": [
    "y_train = y_train.iloc[:, 0]\n",
    "y_val = y_val.iloc[:, 0]\n",
    "y_test = y_test.iloc[:, 0]"
   ]
  },
  {
   "cell_type": "markdown",
   "metadata": {},
   "source": [
    "# 2.0 Parameters"
   ]
  },
  {
   "cell_type": "markdown",
   "metadata": {},
   "source": [
    "## Parameteres:\n",
    "- `n_estimators`\n",
    "- `max_depth`"
   ]
  },
  {
   "cell_type": "markdown",
   "metadata": {},
   "source": [
    "## 2.1 Train Performance"
   ]
  },
  {
   "cell_type": "code",
   "execution_count": 6,
   "metadata": {},
   "outputs": [
    {
     "name": "stdout",
     "output_type": "stream",
     "text": [
      "Train R2: 0.903200588722743\n",
      "Train MSE: 46.271334389180865\n",
      "Train RMSE: 6.802303609012234\n",
      "Train MAE: 4.8564751788188945\n",
      "Train MAPE: 2.5385273988065387\n"
     ]
    }
   ],
   "source": [
    "# Define Model\n",
    "random_forest = RandomForestRegressor(random_state=42)\n",
    "\n",
    "# Fit Model\n",
    "random_forest.fit(X_train, y_train)\n",
    "\n",
    "# Predict \n",
    "y_pred_train = random_forest.predict(X_train)\n",
    "\n",
    "# Performance Metrics\n",
    "r2_train = mt.r2_score(y_train, y_pred_train)\n",
    "mse_train = mt.mean_squared_error(y_train, y_pred_train)\n",
    "rmse_train = mt.mean_squared_error(y_train, y_pred_train, squared=False)\n",
    "mae_train = mt.mean_absolute_error(y_train, y_pred_train)\n",
    "mape_train = mt.mean_absolute_percentage_error(y_train, y_pred_train)\n",
    "\n",
    "print(f\"Train R2: {r2_train}\")\n",
    "print(f\"Train MSE: {mse_train}\")\n",
    "print(f\"Train RMSE: {rmse_train}\")\n",
    "print(f\"Train MAE: {mae_train}\")\n",
    "print(f\"Train MAPE: {mape_train}\")\n"
   ]
  },
  {
   "cell_type": "markdown",
   "metadata": {},
   "source": [
    "## 2.2 Validation Performance"
   ]
  },
  {
   "cell_type": "code",
   "execution_count": 7,
   "metadata": {},
   "outputs": [
    {
     "name": "stdout",
     "output_type": "stream",
     "text": [
      "Validation R2: 0.3317899098557302\n",
      "Validation MSE: 319.0780772703958\n",
      "Validation RMSE: 17.862756709712972\n",
      "Validation MAE: 13.028930969277102\n",
      "Validation MAPE: 7.077081989281179\n"
     ]
    }
   ],
   "source": [
    "# Define Model\n",
    "random_forest = RandomForestRegressor(random_state=42)\n",
    "\n",
    "# Fit Model\n",
    "random_forest.fit(X_train, y_train)\n",
    "\n",
    "# Predict \n",
    "y_pred_val = random_forest.predict(X_val)\n",
    "\n",
    "# Performance Metrics\n",
    "r2_val = mt.r2_score(y_val, y_pred_val)\n",
    "mse_val = mt.mean_squared_error(y_val, y_pred_val)\n",
    "rmse_val = mt.mean_squared_error(y_val, y_pred_val, squared=False)\n",
    "mae_val = mt.mean_absolute_error(y_val, y_pred_val)\n",
    "mape_val = mt.mean_absolute_percentage_error(y_val, y_pred_val)\n",
    "\n",
    "print(f\"Validation R2: {r2_val}\")\n",
    "print(f\"Validation MSE: {mse_val}\")\n",
    "print(f\"Validation RMSE: {rmse_val}\")\n",
    "print(f\"Validation MAE: {mae_val}\")\n",
    "print(f\"Validation MAPE: {mape_val}\")"
   ]
  },
  {
   "cell_type": "markdown",
   "metadata": {},
   "source": [
    "## 2.3 Fine Tunning"
   ]
  },
  {
   "cell_type": "markdown",
   "metadata": {},
   "source": [
    "### N Estimators"
   ]
  },
  {
   "cell_type": "code",
   "execution_count": 8,
   "metadata": {},
   "outputs": [],
   "source": [
    "n_estimators = np.arange(1, 250, 10)\n",
    "\n",
    "r2_list = []\n",
    "mse_list = []\n",
    "rmse_list = []\n",
    "mae_list = []\n",
    "mape_list = []"
   ]
  },
  {
   "cell_type": "code",
   "execution_count": 9,
   "metadata": {},
   "outputs": [],
   "source": [
    "for i in n_estimators:\n",
    "    # Define Model\n",
    "    random_forest = RandomForestRegressor(random_state=42, n_estimators=i)\n",
    "    \n",
    "    # Fit Model\n",
    "    random_forest.fit(X_train, y_train)\n",
    "\n",
    "    # Predict\n",
    "    y_pred = random_forest.predict(X_val)\n",
    "\n",
    "    # Performance Metrics\n",
    "    r2 = mt.r2_score(y_val, y_pred)\n",
    "    mse = mt.mean_squared_error(y_val, y_pred)\n",
    "    rmse = mt.mean_squared_error(y_val, y_pred, squared=False)\n",
    "    mae = mt.mean_absolute_error(y_val, y_pred)\n",
    "    mape = mt.mean_absolute_percentage_error(y_val, y_pred)\n",
    "\n",
    "    r2_list.append(r2)\n",
    "    mse_list.append(mse)\n",
    "    rmse_list.append(rmse)\n",
    "    mae_list.append(mae)\n",
    "    mape_list.append(mape)"
   ]
  },
  {
   "cell_type": "code",
   "execution_count": 10,
   "metadata": {},
   "outputs": [
    {
     "data": {
      "text/plain": [
       "<matplotlib.legend.Legend at 0x200a9cc5940>"
      ]
     },
     "execution_count": 10,
     "metadata": {},
     "output_type": "execute_result"
    },
    {
     "data": {
      "image/png": "[encoded data removed]",
      "text/plain": [
       "<Figure size 640x480 with 1 Axes>"
      ]
     },
     "metadata": {},
     "output_type": "display_data"
    }
   ],
   "source": [
    "# Plot Metrics\n",
    "plt.plot(n_estimators, r2_list, marker=\"o\", label=\"R-Squared\")\n",
    "plt.plot(n_estimators, mse_list, marker=\"o\", label=\"MSE\")\n",
    "plt.plot(n_estimators, rmse_list, marker=\"o\", label=\"RMSE\")\n",
    "plt.plot(n_estimators, mae_list, marker=\"o\", label=\"MAE\")\n",
    "plt.plot(n_estimators, mape_list, marker=\"o\", label=\"MAPE\")\n",
    "plt.xlabel(\"N Estimators\")\n",
    "plt.ylabel(\"Metrics\")\n",
    "plt.legend()"
   ]
  },
  {
   "cell_type": "code",
   "execution_count": 11,
   "metadata": {},
   "outputs": [
    {
     "data": {
      "text/plain": [
       "231"
      ]
     },
     "execution_count": 11,
     "metadata": {},
     "output_type": "execute_result"
    }
   ],
   "source": [
    "#Find Best n_estimator\n",
    "best_estimator = n_estimators[np.argmin(rmse_list)]\n",
    "best_estimator"
   ]
  },
  {
   "cell_type": "markdown",
   "metadata": {},
   "source": [
    "### Max Depth"
   ]
  },
  {
   "cell_type": "code",
   "execution_count": 12,
   "metadata": {},
   "outputs": [],
   "source": [
    "max_depth = np.arange(1, 30)\n",
    "\n",
    "r2_list = []\n",
    "mse_list = []\n",
    "rmse_list = []\n",
    "mae_list = []\n",
    "mape_list = []"
   ]
  },
  {
   "cell_type": "code",
   "execution_count": 13,
   "metadata": {},
   "outputs": [],
   "source": [
    "for i in max_depth:\n",
    "    # Define Model\n",
    "    random_forest = RandomForestRegressor(\n",
    "        random_state=42, n_estimators=best_estimator, max_depth=i\n",
    "    )\n",
    "    random_forest.fit(X_train, y_train)\n",
    "\n",
    "    # Predict\n",
    "    y_pred = random_forest.predict(X_val)\n",
    "\n",
    "    # Performance Metrics\n",
    "    r2 = mt.r2_score(y_val, y_pred)\n",
    "    mse = mt.mean_squared_error(y_val, y_pred)\n",
    "    rmse = mt.mean_squared_error(y_val, y_pred, squared= False)\n",
    "    mae = mt.mean_absolute_error(y_val, y_pred)\n",
    "    mape = mt.mean_absolute_percentage_error(y_val, y_pred)\n",
    "\n",
    "    r2_list.append(r2)\n",
    "    mse_list.append(mse)\n",
    "    rmse_list.append(rmse)\n",
    "    mae_list.append(mae)\n",
    "    mape_list.append(mape)"
   ]
  },
  {
   "cell_type": "code",
   "execution_count": 14,
   "metadata": {},
   "outputs": [
    {
     "data": {
      "text/plain": [
       "<matplotlib.legend.Legend at 0x200b408b700>"
      ]
     },
     "execution_count": 14,
     "metadata": {},
     "output_type": "execute_result"
    },
    {
     "data": {
      "image/png": "[encoded data removed]",
      "text/plain": [
       "<Figure size 640x480 with 1 Axes>"
      ]
     },
     "metadata": {},
     "output_type": "display_data"
    }
   ],
   "source": [
    "plt.plot(max_depth, r2_list, marker=\"o\", label=\"R-Squared\")\n",
    "plt.plot(max_depth, mse_list, marker=\"o\", label=\"MSE\")\n",
    "plt.plot(max_depth, rmse_list, marker=\"o\", label=\"RMSE\")\n",
    "plt.plot(max_depth, mae_list, marker=\"o\", label=\"MAE\")\n",
    "plt.plot(max_depth, mape_list, marker=\"o\", label=\"MAPE\")\n",
    "plt.xlabel(\"Max Depth\")\n",
    "plt.ylabel(\"Metrics\")\n",
    "plt.legend()"
   ]
  },
  {
   "cell_type": "code",
   "execution_count": 15,
   "metadata": {},
   "outputs": [
    {
     "data": {
      "text/plain": [
       "27"
      ]
     },
     "execution_count": 15,
     "metadata": {},
     "output_type": "execute_result"
    }
   ],
   "source": [
    "best_max_depth = max_depth[np.argmin(mse_list)]\n",
    "best_max_depth"
   ]
  },
  {
   "cell_type": "code",
   "execution_count": 16,
   "metadata": {},
   "outputs": [
    {
     "name": "stdout",
     "output_type": "stream",
     "text": [
      "Test R2: 0.4039751437786734\n",
      "Test MSE: 290.2050841471332\n",
      "Test RMSE: 17.0354067796203\n",
      "Test MAE: 12.243197863336585\n",
      "Test MAPE: 6.287762660975762\n"
     ]
    }
   ],
   "source": [
    "# Define Model\n",
    "random_forest = RandomForestRegressor(\n",
    "    random_state=42, n_estimators=best_estimator, max_depth=best_max_depth\n",
    ")\n",
    "random_forest.fit(\n",
    "    pd.concat([X_train, X_val], axis=0), pd.concat([y_train, y_val], axis=0)\n",
    ")\n",
    "\n",
    "# Predict\n",
    "y_pred_test = random_forest.predict(X_test)\n",
    "\n",
    "# Performance Metrics\n",
    "r2_test = mt.r2_score(y_test, y_pred_test)\n",
    "mse_test = mt.mean_squared_error(y_test, y_pred_test)\n",
    "rmse_test = mt.mean_squared_error(y_test, y_pred_test, squared= False)\n",
    "mae_test = mt.mean_absolute_error(y_test, y_pred_test)\n",
    "mape_test = mt.mean_absolute_percentage_error(y_test, y_pred_test)\n",
    "\n",
    "print(f\"Test R2: {r2_test}\")\n",
    "print(f\"Test MSE: {mse_test}\")\n",
    "print(f\"Test RMSE: {rmse_test}\")\n",
    "print(f\"Test MAE: {mae_test}\")\n",
    "print(f\"Test MAPE: {mape_test}\")"
   ]
  },
  {
   "cell_type": "markdown",
   "metadata": {},
   "source": [
    "# 3.0 Results"
   ]
  },
  {
   "cell_type": "code",
   "execution_count": 17,
   "metadata": {},
   "outputs": [],
   "source": [
    "train_metrics = {\n",
    "    \"Algorithm\": \"Random Forest Regressor\",\n",
    "    \"R2\": np.round(r2_train, 3),\n",
    "    \"MSE\": np.round(mse_train, 3),\n",
    "    \"RMSE\": np.round(rmse_train, 3),\n",
    "    \"MAE\": np.round(mae_train, 3),\n",
    "    \"MAPE\": np.round(mape_train, 3),\n",
    "}\n",
    "validation_metrics = {\n",
    "    \"Algorithm\": \"Random Forest Regressor\",\n",
    "    \"R2\": np.round(r2_val, 3),\n",
    "    \"MSE\": np.round(mse_val, 3),\n",
    "    \"RMSE\": np.round(rmse_val, 3),\n",
    "    \"MAE\": np.round(mae_val, 3),\n",
    "    \"MAPE\": np.round(mape_val, 3),\n",
    "}\n",
    "test_metrics = {\n",
    "    \"Algorithm\": \"Random Forest Regressor\",\n",
    "    \"R2\": np.round(r2_test, 3),\n",
    "    \"MSE\": np.round(mse_test, 3),\n",
    "    \"RMSE\": np.round(rmse_test, 3),\n",
    "    \"MAE\": np.round(mae_test, 3),\n",
    "    \"MAPE\": np.round(mape_test, 3),\n",
    "}\n",
    "\n",
    "pd.DataFrame(train_metrics, index=[0]).to_csv(\n",
    "    \"./reg_train_metrics.csv\", mode=\"a\", header=False\n",
    ")\n",
    "pd.DataFrame(validation_metrics, index=[0]).to_csv(\n",
    "    \"./reg_validation_metrics.csv\", mode=\"a\", header=False\n",
    ")\n",
    "pd.DataFrame(test_metrics, index=[0]).to_csv(\n",
    "    \"./reg_test_metrics.csv\", mode=\"a\", header=False\n",
    ")"
   ]
  }
 ],
 "metadata": {
  "kernelspec": {
   "display_name": "Python 3",
   "language": "python",
   "name": "python3"
  },
  "language_info": {
   "codemirror_mode": {
    "name": "ipython",
    "version": 3
   },
   "file_extension": ".py",
   "mimetype": "text/x-python",
   "name": "python",
   "nbconvert_exporter": "python",
   "pygments_lexer": "ipython3",
   "version": "3.8.16"
  }
 },
 "nbformat": 4,
 "nbformat_minor": 2
}
