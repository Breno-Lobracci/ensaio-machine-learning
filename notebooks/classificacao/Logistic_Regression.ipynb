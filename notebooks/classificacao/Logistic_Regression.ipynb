{
 "cells": [
  {
   "cell_type": "markdown",
   "metadata": {},
   "source": [
    "# 0.0 Imports"
   ]
  },
  {
   "cell_type": "code",
   "execution_count": 8,
   "metadata": {},
   "outputs": [],
   "source": [
    "import pandas as pd \n",
    "import numpy as np\n",
    "import warnings\n",
    "from matplotlib import pyplot as plt\n",
    "from sklearn import metrics as mt\n",
    "from sklearn.linear_model import LogisticRegression"
   ]
  },
  {
   "cell_type": "code",
   "execution_count": 9,
   "metadata": {},
   "outputs": [],
   "source": [
    "warnings.filterwarnings(\"ignore\")"
   ]
  },
  {
   "cell_type": "markdown",
   "metadata": {},
   "source": [
    "# 1.0 Load Dataset"
   ]
  },
  {
   "cell_type": "code",
   "execution_count": 10,
   "metadata": {},
   "outputs": [],
   "source": [
    "#Data Path\n",
    "data_path_X_trian = '../classificacao/X_training.csv'\n",
    "data_path_y_trian = '../classificacao/y_training.csv'\n",
    "\n",
    "data_path_X_val = '../classificacao/X_validation.csv'\n",
    "data_path_y_val = '../classificacao/y_validation.csv'\n",
    "\n",
    "data_path_X_test = '../classificacao/X_test.csv'\n",
    "data_path_y_test = '../classificacao/y_test.csv'\n",
    "\n",
    "# Train Dataset\n",
    "X_train = pd.read_csv(data_path_X_trian)\n",
    "y_train = pd.read_csv(data_path_y_trian)\n",
    "\n",
    "# Validation Dataset\n",
    "X_val = pd.read_csv(data_path_X_val)\n",
    "y_val = pd.read_csv(data_path_y_val)\n",
    "\n",
    "# Test Dataset\n",
    "X_test = pd.read_csv(data_path_X_test)\n",
    "y_test = pd.read_csv(data_path_y_test)"
   ]
  },
  {
   "cell_type": "code",
   "execution_count": 11,
   "metadata": {},
   "outputs": [],
   "source": [
    "y_train = y_train.iloc[:, 0]\n",
    "y_val = y_val.iloc[:, 0]\n",
    "y_test = y_test.iloc[:, 0]"
   ]
  },
  {
   "cell_type": "markdown",
   "metadata": {},
   "source": [
    "# 2.0 Performance"
   ]
  },
  {
   "cell_type": "markdown",
   "metadata": {},
   "source": [
    "### Parameteres:\n",
    "- `C`\n",
    "- `solver`\n",
    "- `max_iter`"
   ]
  },
  {
   "cell_type": "markdown",
   "metadata": {},
   "source": [
    "## 2.1 Train Performance"
   ]
  },
  {
   "cell_type": "code",
   "execution_count": 13,
   "metadata": {},
   "outputs": [
    {
     "name": "stdout",
     "output_type": "stream",
     "text": [
      "Train Accuracy: 0.5666000137902503\n",
      "Train Precision: 0.0\n",
      "Train Recall: 0.0\n",
      "Train F1 Score: 0.0\n"
     ]
    }
   ],
   "source": [
    "# Model \n",
    "L_Regression = LogisticRegression( random_state= 42)\n",
    "# Fit Model\n",
    "L_Regression.fit( X_train, y_train )\n",
    "# Predict\n",
    "y_pred_train = L_Regression.predict( X_train )\n",
    "\n",
    "# Performance Metrics\n",
    "accuracy_train = mt.accuracy_score( y_train, y_pred_train )\n",
    "precision_train = mt.precision_score( y_train, y_pred_train )\n",
    "recall_train = mt.recall_score( y_train, y_pred_train )\n",
    "f1_score_train = mt.f1_score( y_train, y_pred_train )\n",
    "\n",
    "print('Train Accuracy: {}' .format( accuracy_train ))    \n",
    "print('Train Precision: {}' .format(precision_train))    \n",
    "print('Train Recall: {}' .format(recall_train))    \n",
    "print('Train F1 Score: {}' .format(f1_score_train))    \n"
   ]
  },
  {
   "cell_type": "markdown",
   "metadata": {},
   "source": [
    "## 2.2 Validation Performance"
   ]
  },
  {
   "cell_type": "code",
   "execution_count": 15,
   "metadata": {},
   "outputs": [
    {
     "name": "stdout",
     "output_type": "stream",
     "text": [
      "Validation Accuracy: 0.5666205476366678\n",
      "Validation Precision: 0.0\n",
      "Validation Recall: 0.0\n",
      "Validation F1 Score: 0.0\n"
     ]
    }
   ],
   "source": [
    "# Model \n",
    "L_Regression = LogisticRegression( random_state= 42)\n",
    "# Fit Model\n",
    "L_Regression.fit( X_train, y_train )\n",
    "# Predict\n",
    "y_pred_val = L_Regression.predict( X_val )\n",
    "\n",
    "# Performance Metrics\n",
    "accuracy_val = mt.accuracy_score( y_val, y_pred_val )\n",
    "precision_val = mt.precision_score( y_val, y_pred_val )\n",
    "recall_val = mt.recall_score( y_val, y_pred_val )\n",
    "f1_score_val = mt.f1_score( y_val, y_pred_val )\n",
    "\n",
    "print('Validation Accuracy: {}' .format( accuracy_val ))    \n",
    "print('Validation Precision: {}' .format(precision_val))    \n",
    "print('Validation Recall: {}' .format(recall_val))\n",
    "print('Validation F1 Score: {}' .format(f1_score_val))   "
   ]
  },
  {
   "cell_type": "markdown",
   "metadata": {},
   "source": [
    "## 2.3 Fine Tunning"
   ]
  },
  {
   "cell_type": "markdown",
   "metadata": {},
   "source": [
    "### `C`"
   ]
  },
  {
   "cell_type": "code",
   "execution_count": 16,
   "metadata": {},
   "outputs": [],
   "source": [
    "C = np.arange(0.1, 2.01, 0.01)\n",
    "\n",
    "accuracy_list = []\n",
    "precision_list = []\n",
    "recall_list = []\n",
    "f1_score_list = []"
   ]
  },
  {
   "cell_type": "code",
   "execution_count": 17,
   "metadata": {},
   "outputs": [],
   "source": [
    "for i in C:\n",
    "    # Model \n",
    "    L_Regression = LogisticRegression(C=i, random_state= 42)\n",
    "    # Fit Model\n",
    "    L_Regression.fit( X_train, y_train )\n",
    "    # Predict\n",
    "    y_pred = L_Regression.predict( X_val )\n",
    "\n",
    "    # Performance Metrics\n",
    "    accuracy = mt.accuracy_score( y_val, y_pred )\n",
    "    precision = mt.precision_score( y_val, y_pred )\n",
    "    recall= mt.recall_score( y_val, y_pred )\n",
    "    f1_score = mt.f1_score( y_val, y_pred )\n",
    "\n",
    "    # List\n",
    "    accuracy_list.append(accuracy)\n",
    "    precision_list.append(precision)\n",
    "    recall_list.append(recall)\n",
    "    f1_score_list.append(f1_score) "
   ]
  },
  {
   "cell_type": "code",
   "execution_count": 18,
   "metadata": {},
   "outputs": [
    {
     "data": {
      "text/plain": [
       "<matplotlib.legend.Legend at 0x28f878da970>"
      ]
     },
     "execution_count": 18,
     "metadata": {},
     "output_type": "execute_result"
    },
    {
     "data": {
      "image/png": "[encoded data removed]",
      "text/plain": [
       "<Figure size 640x480 with 1 Axes>"
      ]
     },
     "metadata": {},
     "output_type": "display_data"
    }
   ],
   "source": [
    "plt.plot( C, accuracy_list, marker='o', label ='Accuracy' )\n",
    "plt.plot( C, precision_list, marker='o', label ='Precision' )\n",
    "plt.plot( C, recall_list, marker='o', label ='Recall' )\n",
    "plt.plot( C, f1_score_list, marker='o', label ='F1 Score' )\n",
    "plt.xlabel('C')\n",
    "plt.ylabel('Metrics')\n",
    "plt.legend()"
   ]
  },
  {
   "cell_type": "code",
   "execution_count": 19,
   "metadata": {},
   "outputs": [
    {
     "data": {
      "text/plain": [
       "0.1"
      ]
     },
     "execution_count": 19,
     "metadata": {},
     "output_type": "execute_result"
    }
   ],
   "source": [
    "best_C = C[np.argmax(accuracy_list)]\n",
    "best_C"
   ]
  },
  {
   "cell_type": "markdown",
   "metadata": {},
   "source": [
    "### `solver`"
   ]
  },
  {
   "cell_type": "code",
   "execution_count": 25,
   "metadata": {},
   "outputs": [],
   "source": [
    "solver = [\"lbfgs\", \"liblinear\", \"newton-cg\", \"newton-cholesky\", \"sag\", \"saga\"]\n",
    "\n",
    "accuracy_list = []\n",
    "precision_list = []\n",
    "recall_list = []\n",
    "f1_score_list = []"
   ]
  },
  {
   "cell_type": "code",
   "execution_count": 26,
   "metadata": {},
   "outputs": [],
   "source": [
    "for i in solver:\n",
    "    # Model \n",
    "    L_Regression = LogisticRegression(solver=i, C=best_C, random_state= 42)\n",
    "    # Fit Model\n",
    "    L_Regression.fit( X_train, y_train )\n",
    "    # Predict\n",
    "    y_pred = L_Regression.predict( X_val )\n",
    "\n",
    "    # Performance Metrics\n",
    "    accuracy = mt.accuracy_score( y_val, y_pred )\n",
    "    precision = mt.precision_score( y_val, y_pred )\n",
    "    recall= mt.recall_score( y_val, y_pred )\n",
    "    f1_score = mt.f1_score( y_val, y_pred )\n",
    "\n",
    "    # List\n",
    "    accuracy_list.append(accuracy)\n",
    "    precision_list.append(precision)\n",
    "    recall_list.append(recall)\n",
    "    f1_score_list.append(f1_score) "
   ]
  },
  {
   "cell_type": "code",
   "execution_count": 27,
   "metadata": {},
   "outputs": [
    {
     "data": {
      "text/plain": [
       "<matplotlib.legend.Legend at 0x28f8831cb80>"
      ]
     },
     "execution_count": 27,
     "metadata": {},
     "output_type": "execute_result"
    },
    {
     "data": {
      "image/png": "[encoded data removed]",
      "text/plain": [
       "<Figure size 640x480 with 1 Axes>"
      ]
     },
     "metadata": {},
     "output_type": "display_data"
    }
   ],
   "source": [
    "plt.plot(solver, accuracy_list, marker='o', label='Accuracy')\n",
    "plt.plot(solver, precision_list, marker='o', label='Precision')\n",
    "plt.plot(solver, recall_list, marker='o', label='Recall')\n",
    "plt.plot(solver, f1_score_list, marker='o', label='F1 Score')\n",
    "plt.xlabel('Solver')\n",
    "plt.ylabel('Metrics')\n",
    "plt.legend()"
   ]
  },
  {
   "cell_type": "code",
   "execution_count": 28,
   "metadata": {},
   "outputs": [
    {
     "data": {
      "text/plain": [
       "'newton-cg'"
      ]
     },
     "execution_count": 28,
     "metadata": {},
     "output_type": "execute_result"
    }
   ],
   "source": [
    "best_solver = solver[np.argmax(accuracy_list)]\n",
    "best_solver"
   ]
  },
  {
   "cell_type": "markdown",
   "metadata": {},
   "source": [
    "### `max_iter`"
   ]
  },
  {
   "cell_type": "code",
   "execution_count": 29,
   "metadata": {},
   "outputs": [],
   "source": [
    "max_iter = np.arange(100, 5000, 100)\n",
    "\n",
    "accuracy_list = []\n",
    "precision_list = []\n",
    "recall_list = []\n",
    "f1_score_list = []"
   ]
  },
  {
   "cell_type": "code",
   "execution_count": 30,
   "metadata": {},
   "outputs": [],
   "source": [
    "for i in max_iter:\n",
    "    # Model \n",
    "    L_Regression = LogisticRegression(max_iter=i, solver=best_solver, C=best_C, random_state= 42)\n",
    "    # Fit Model\n",
    "    L_Regression.fit( X_train, y_train )\n",
    "    # Predict\n",
    "    y_pred = L_Regression.predict( X_val )\n",
    "\n",
    "    # Performance Metrics\n",
    "    accuracy = mt.accuracy_score( y_val, y_pred )\n",
    "    precision = mt.precision_score( y_val, y_pred )\n",
    "    recall= mt.recall_score( y_val, y_pred )\n",
    "    f1_score = mt.f1_score( y_val, y_pred )\n",
    "\n",
    "    # List\n",
    "    accuracy_list.append(accuracy)\n",
    "    precision_list.append(precision)\n",
    "    recall_list.append(recall)\n",
    "    f1_score_list.append(f1_score) "
   ]
  },
  {
   "cell_type": "code",
   "execution_count": 32,
   "metadata": {},
   "outputs": [
    {
     "data": {
      "text/plain": [
       "<matplotlib.legend.Legend at 0x28f883ec370>"
      ]
     },
     "execution_count": 32,
     "metadata": {},
     "output_type": "execute_result"
    },
    {
     "data": {
      "image/png": "[encoded data removed]",
      "text/plain": [
       "<Figure size 640x480 with 1 Axes>"
      ]
     },
     "metadata": {},
     "output_type": "display_data"
    }
   ],
   "source": [
    "plt.plot(max_iter, accuracy_list, marker=\"o\", label=\"Accuracy\")\n",
    "plt.plot(max_iter, precision_list, marker=\"o\", label=\"Precision\")\n",
    "plt.plot(max_iter, recall_list, marker=\"o\", label=\"Recall\")\n",
    "plt.plot(max_iter, f1_score_list, marker=\"o\", label=\"F1 Score\")\n",
    "plt.xlabel(\"C\")\n",
    "plt.ylabel(\"Metrics\")\n",
    "plt.legend()"
   ]
  },
  {
   "cell_type": "code",
   "execution_count": 33,
   "metadata": {},
   "outputs": [
    {
     "data": {
      "text/plain": [
       "100"
      ]
     },
     "execution_count": 33,
     "metadata": {},
     "output_type": "execute_result"
    }
   ],
   "source": [
    "best_max_iter = max_iter[np.argmax(accuracy_list)]\n",
    "best_max_iter"
   ]
  },
  {
   "cell_type": "markdown",
   "metadata": {},
   "source": [
    "## 2.4 Test Performance"
   ]
  },
  {
   "cell_type": "code",
   "execution_count": 35,
   "metadata": {},
   "outputs": [
    {
     "name": "stdout",
     "output_type": "stream",
     "text": [
      "Test Accuracy: 0.871316572046499\n",
      "Test Precision: 0.8673068129858253\n",
      "Test Recall: 0.8344918609766828\n",
      "Test F1 Score: 0.8505829596412556\n"
     ]
    }
   ],
   "source": [
    "# Model \n",
    "L_Regression = LogisticRegression(max_iter=best_max_iter, solver=best_solver, C=best_C, random_state= 42)\n",
    "# Fit Model\n",
    "L_Regression.fit(pd.concat([X_train, X_val],axis=0),pd.concat([y_train, y_val],axis=0))\n",
    "# Predict\n",
    "y_pred_test = L_Regression.predict( X_test )\n",
    "\n",
    "# Performance Metrics\n",
    "accuracy_test = mt.accuracy_score( y_test, y_pred_test )\n",
    "precision_test = mt.precision_score( y_test, y_pred_test )\n",
    "recall_test= mt.recall_score( y_test, y_pred_test )\n",
    "f1_score_test = mt.f1_score( y_test, y_pred_test )\n",
    "\n",
    "print('Test Accuracy: {}' .format( accuracy_test ))    \n",
    "print('Test Precision: {}' .format(precision_test))    \n",
    "print('Test Recall: {}' .format(recall_test))\n",
    "print('Test F1 Score: {}' .format(f1_score_test))"
   ]
  },
  {
   "cell_type": "markdown",
   "metadata": {},
   "source": [
    "# 3.0 Results"
   ]
  },
  {
   "cell_type": "code",
   "execution_count": null,
   "metadata": {},
   "outputs": [],
   "source": [
    "train_metrics = {\n",
    "    \"Algorithm\": \"Logistic Regression\",\n",
    "    \"Accuracy\": np.round(accuracy_train, 3),\n",
    "    \"Precision\": np.round(precision_train, 3),\n",
    "    \"Recall\": np.round(recall_train, 3),\n",
    "    \"F1 Score\": np.round(f1_score_train, 3),\n",
    "}\n",
    "validation_metrics = {\n",
    "    \"Algorithm\": \"Logistic Regression\",\n",
    "    \"Accuracy\": np.round(accuracy_val, 3),\n",
    "    \"Precision\": np.round(precision_val, 3),\n",
    "    \"Recall\": np.round(recall_val, 3),\n",
    "    \"F1 Score\": np.round(f1_score_val, 3),\n",
    "}\n",
    "test_metrics = {\n",
    "    \"Algorithm\": \"Logistic Regression\",\n",
    "    \"Accuracy\": np.round(accuracy_test, 3),\n",
    "    \"Precision\": np.round(precision_test, 3),\n",
    "    \"Recall\": np.round(recall_test, 3),\n",
    "    \"F1 Score\": np.round(f1_score_test, 3),\n",
    "}\n",
    "\n",
    "pd.DataFrame(train_metrics, index=[0]).to_csv(\n",
    "    \"./train_metrics.csv\", mode=\"a\", header=False\n",
    ")\n",
    "pd.DataFrame(validation_metrics, index=[0]).to_csv(\n",
    "    \"./validation_metrics.csv\", mode=\"a\", header=False\n",
    ")\n",
    "pd.DataFrame(test_metrics, index=[0]).to_csv(\n",
    "    \"./test_metrics.csv\", mode=\"a\", header=False\n",
    ")"
   ]
  }
 ],
 "metadata": {
  "kernelspec": {
   "display_name": "Python 3",
   "language": "python",
   "name": "python3"
  },
  "language_info": {
   "codemirror_mode": {
    "name": "ipython",
    "version": 3
   },
   "file_extension": ".py",
   "mimetype": "text/x-python",
   "name": "python",
   "nbconvert_exporter": "python",
   "pygments_lexer": "ipython3",
   "version": "3.8.16"
  }
 },
 "nbformat": 4,
 "nbformat_minor": 2
}
